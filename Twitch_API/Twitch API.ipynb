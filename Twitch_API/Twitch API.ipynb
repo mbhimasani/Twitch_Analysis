{
 "cells": [
  {
   "cell_type": "code",
   "execution_count": 14,
   "metadata": {},
   "outputs": [],
   "source": [
    "import requests\n",
    "import json"
   ]
  },
  {
   "cell_type": "code",
   "execution_count": 15,
   "metadata": {},
   "outputs": [],
   "source": [
    "url = \"https://api.twitch.tv/kraken/users/iplaigamestv?client_id=\"\n",
    "client_ID = \n",
    "\n",
    "query_url = url + client_ID"
   ]
  },
  {
   "cell_type": "code",
   "execution_count": 16,
   "metadata": {},
   "outputs": [
    {
     "data": {
      "text/plain": [
       "{'display_name': 'IplaiGamesTV',\n",
       " '_id': 63863209,\n",
       " 'name': 'iplaigamestv',\n",
       " 'type': 'user',\n",
       " 'bio': None,\n",
       " 'created_at': '2014-06-07T17:37:27Z',\n",
       " 'updated_at': '2018-09-25T01:37:21Z',\n",
       " 'logo': 'https://static-cdn.jtvnw.net/jtv_user_pictures/733a0443607c1089-profile_image-300x300.jpeg',\n",
       " '_links': {'self': 'https://api.twitch.tv/kraken/users/iplaigamestv'}}"
      ]
     },
     "execution_count": 16,
     "metadata": {},
     "output_type": "execute_result"
    }
   ],
   "source": [
    "requests.get(query_url).json()"
   ]
  },
  {
   "cell_type": "code",
   "execution_count": null,
   "metadata": {},
   "outputs": [],
   "source": []
  }
 ],
 "metadata": {
  "kernelspec": {
   "display_name": "Python 3",
   "language": "python",
   "name": "python3"
  },
  "language_info": {
   "codemirror_mode": {
    "name": "ipython",
    "version": 3
   },
   "file_extension": ".py",
   "mimetype": "text/x-python",
   "name": "python",
   "nbconvert_exporter": "python",
   "pygments_lexer": "ipython3",
   "version": "3.6.5"
  }
 },
 "nbformat": 4,
 "nbformat_minor": 2
}
