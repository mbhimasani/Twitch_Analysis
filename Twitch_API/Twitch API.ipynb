{
 "cells": [
  {
   "cell_type": "code",
   "execution_count": 1,
   "metadata": {},
   "outputs": [],
   "source": [
    "import requests\n",
    "import json\n",
    "import api_keys"
   ]
  },
  {
   "cell_type": "code",
   "execution_count": 2,
   "metadata": {},
   "outputs": [],
   "source": [
    "url = \"https://api.twitch.tv/kraken/users/iplaigamestv?client_id=\"\n",
    "client_ID = api_keys.api_key\n",
    "\n",
    "query_url = url + client_ID"
   ]
  },
  {
   "cell_type": "code",
   "execution_count": 3,
   "metadata": {},
   "outputs": [
    {
     "data": {
      "text/plain": [
       "{'display_name': 'IplaiGamesTV',\n",
       " '_id': 63863209,\n",
       " 'name': 'iplaigamestv',\n",
       " 'type': 'user',\n",
       " 'bio': None,\n",
       " 'created_at': '2014-06-07T17:37:27Z',\n",
       " 'updated_at': '2018-10-02T22:36:06Z',\n",
       " 'logo': 'https://static-cdn.jtvnw.net/jtv_user_pictures/733a0443607c1089-profile_image-300x300.jpeg',\n",
       " '_links': {'self': 'https://api.twitch.tv/kraken/users/iplaigamestv'}}"
      ]
     },
     "execution_count": 3,
     "metadata": {},
     "output_type": "execute_result"
    }
   ],
   "source": [
    "requests.get(query_url).json()"
   ]
  },
  {
   "cell_type": "code",
   "execution_count": null,
   "metadata": {},
   "outputs": [],
   "source": []
  }
 ],
 "metadata": {
  "kernelspec": {
   "display_name": "Python 3",
   "language": "python",
   "name": "python3"
  },
  "language_info": {
   "codemirror_mode": {
    "name": "ipython",
    "version": 3
   },
   "file_extension": ".py",
   "mimetype": "text/x-python",
   "name": "python",
   "nbconvert_exporter": "python",
   "pygments_lexer": "ipython3",
   "version": "3.6.5"
  }
 },
 "nbformat": 4,
 "nbformat_minor": 2
}
